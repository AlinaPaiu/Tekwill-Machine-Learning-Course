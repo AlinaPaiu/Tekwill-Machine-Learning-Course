{
 "cells": [
  {
   "cell_type": "code",
   "execution_count": 46,
   "metadata": {
    "executionInfo": {
     "elapsed": 293,
     "status": "ok",
     "timestamp": 1652269721255,
     "user": {
      "displayName": "Alina Paiu",
      "userId": "13429356852546874438"
     },
     "user_tz": -180
    },
    "id": "96H7RZMAIlJm"
   },
   "outputs": [],
   "source": [
    "%matplotlib inline\n",
    "import numpy as np\n",
    "import pandas as pd\n",
    "import math\n",
    "from sklearn.model_selection import train_test_split\n",
    "from sklearn.preprocessing import MinMaxScaler \n",
    "import matplotlib.pyplot as plt\n",
    "plt.rcParams['figure.figsize'] = (20.0, 10.0)"
   ]
  },
  {
   "cell_type": "code",
   "execution_count": 316,
   "metadata": {
    "colab": {
     "base_uri": "https://localhost:8080/"
    },
    "executionInfo": {
     "elapsed": 13,
     "status": "ok",
     "timestamp": 1652269722434,
     "user": {
      "displayName": "Alina Paiu",
      "userId": "13429356852546874438"
     },
     "user_tz": -180
    },
    "id": "smkmkeeGI3Sd",
    "outputId": "d28c8422-0bd3-43b7-e7fe-a58abb6d8ac4"
   },
   "outputs": [
    {
     "name": "stderr",
     "output_type": "stream",
     "text": [
      "A subdirectory or file data already exists.\n"
     ]
    }
   ],
   "source": [
    "#Importing TRAIN dataset:\n",
    "!mkdir data && curl -o data/titanic_kaggle.csv -LJO https://github.com/AlinaPaiu/Tekwill-Machine-Learning-Course/raw/main/Data%20Sources/titanic_kaggle.csv"
   ]
  },
  {
   "cell_type": "code",
   "execution_count": 296,
   "metadata": {},
   "outputs": [
    {
     "data": {
      "text/html": [
       "<div>\n",
       "<style scoped>\n",
       "    .dataframe tbody tr th:only-of-type {\n",
       "        vertical-align: middle;\n",
       "    }\n",
       "\n",
       "    .dataframe tbody tr th {\n",
       "        vertical-align: top;\n",
       "    }\n",
       "\n",
       "    .dataframe thead th {\n",
       "        text-align: right;\n",
       "    }\n",
       "</style>\n",
       "<table border=\"1\" class=\"dataframe\">\n",
       "  <thead>\n",
       "    <tr style=\"text-align: right;\">\n",
       "      <th></th>\n",
       "      <th>PassengerId</th>\n",
       "      <th>Survived</th>\n",
       "      <th>Pclass</th>\n",
       "      <th>Name</th>\n",
       "      <th>Sex</th>\n",
       "      <th>Age</th>\n",
       "      <th>SibSp</th>\n",
       "      <th>Parch</th>\n",
       "      <th>Ticket</th>\n",
       "      <th>Fare</th>\n",
       "      <th>Cabin</th>\n",
       "      <th>Embarked</th>\n",
       "    </tr>\n",
       "  </thead>\n",
       "  <tbody>\n",
       "    <tr>\n",
       "      <th>0</th>\n",
       "      <td>707</td>\n",
       "      <td>1</td>\n",
       "      <td>2</td>\n",
       "      <td>Kelly, Mrs. Florence \"Fannie\"</td>\n",
       "      <td>female</td>\n",
       "      <td>45.0</td>\n",
       "      <td>0</td>\n",
       "      <td>0</td>\n",
       "      <td>223596</td>\n",
       "      <td>13.500</td>\n",
       "      <td>NaN</td>\n",
       "      <td>S</td>\n",
       "    </tr>\n",
       "    <tr>\n",
       "      <th>1</th>\n",
       "      <td>737</td>\n",
       "      <td>0</td>\n",
       "      <td>3</td>\n",
       "      <td>Ford, Mrs. Edward (Margaret Ann Watson)</td>\n",
       "      <td>female</td>\n",
       "      <td>48.0</td>\n",
       "      <td>1</td>\n",
       "      <td>3</td>\n",
       "      <td>W./C. 6608</td>\n",
       "      <td>34.375</td>\n",
       "      <td>NaN</td>\n",
       "      <td>S</td>\n",
       "    </tr>\n",
       "    <tr>\n",
       "      <th>2</th>\n",
       "      <td>370</td>\n",
       "      <td>1</td>\n",
       "      <td>1</td>\n",
       "      <td>Aubart, Mme. Leontine Pauline</td>\n",
       "      <td>female</td>\n",
       "      <td>24.0</td>\n",
       "      <td>0</td>\n",
       "      <td>0</td>\n",
       "      <td>PC 17477</td>\n",
       "      <td>69.300</td>\n",
       "      <td>B35</td>\n",
       "      <td>C</td>\n",
       "    </tr>\n",
       "    <tr>\n",
       "      <th>3</th>\n",
       "      <td>133</td>\n",
       "      <td>0</td>\n",
       "      <td>3</td>\n",
       "      <td>Robins, Mrs. Alexander A (Grace Charity Laury)</td>\n",
       "      <td>female</td>\n",
       "      <td>47.0</td>\n",
       "      <td>1</td>\n",
       "      <td>0</td>\n",
       "      <td>A/5. 3337</td>\n",
       "      <td>14.500</td>\n",
       "      <td>NaN</td>\n",
       "      <td>S</td>\n",
       "    </tr>\n",
       "    <tr>\n",
       "      <th>4</th>\n",
       "      <td>415</td>\n",
       "      <td>1</td>\n",
       "      <td>3</td>\n",
       "      <td>Sundman, Mr. Johan Julian</td>\n",
       "      <td>male</td>\n",
       "      <td>44.0</td>\n",
       "      <td>0</td>\n",
       "      <td>0</td>\n",
       "      <td>STON/O 2. 3101269</td>\n",
       "      <td>7.925</td>\n",
       "      <td>NaN</td>\n",
       "      <td>S</td>\n",
       "    </tr>\n",
       "  </tbody>\n",
       "</table>\n",
       "</div>"
      ],
      "text/plain": [
       "   PassengerId  Survived  Pclass  \\\n",
       "0          707         1       2   \n",
       "1          737         0       3   \n",
       "2          370         1       1   \n",
       "3          133         0       3   \n",
       "4          415         1       3   \n",
       "\n",
       "                                             Name     Sex   Age  SibSp  Parch  \\\n",
       "0                   Kelly, Mrs. Florence \"Fannie\"  female  45.0      0      0   \n",
       "1         Ford, Mrs. Edward (Margaret Ann Watson)  female  48.0      1      3   \n",
       "2                   Aubart, Mme. Leontine Pauline  female  24.0      0      0   \n",
       "3  Robins, Mrs. Alexander A (Grace Charity Laury)  female  47.0      1      0   \n",
       "4                       Sundman, Mr. Johan Julian    male  44.0      0      0   \n",
       "\n",
       "              Ticket    Fare Cabin Embarked  \n",
       "0             223596  13.500   NaN        S  \n",
       "1         W./C. 6608  34.375   NaN        S  \n",
       "2           PC 17477  69.300   B35        C  \n",
       "3          A/5. 3337  14.500   NaN        S  \n",
       "4  STON/O 2. 3101269   7.925   NaN        S  "
      ]
     },
     "execution_count": 296,
     "metadata": {},
     "output_type": "execute_result"
    }
   ],
   "source": [
    "data = pd.read_csv('data/titanic_kaggle.csv')\n",
    "data.head()"
   ]
  },
  {
   "cell_type": "code",
   "execution_count": 297,
   "metadata": {
    "colab": {
     "base_uri": "https://localhost:8080/"
    },
    "executionInfo": {
     "elapsed": 302,
     "status": "ok",
     "timestamp": 1652268461904,
     "user": {
      "displayName": "Alina Paiu",
      "userId": "13429356852546874438"
     },
     "user_tz": -180
    },
    "id": "a0ocyuG6JBI-",
    "outputId": "c75d9934-16ac-4238-df97-b09237310c42"
   },
   "outputs": [
    {
     "name": "stdout",
     "output_type": "stream",
     "text": [
      "<class 'pandas.core.frame.DataFrame'>\n",
      "RangeIndex: 623 entries, 0 to 622\n",
      "Data columns (total 12 columns):\n",
      " #   Column       Non-Null Count  Dtype  \n",
      "---  ------       --------------  -----  \n",
      " 0   PassengerId  623 non-null    int64  \n",
      " 1   Survived     623 non-null    int64  \n",
      " 2   Pclass       623 non-null    int64  \n",
      " 3   Name         623 non-null    object \n",
      " 4   Sex          623 non-null    object \n",
      " 5   Age          501 non-null    float64\n",
      " 6   SibSp        623 non-null    int64  \n",
      " 7   Parch        623 non-null    int64  \n",
      " 8   Ticket       623 non-null    object \n",
      " 9   Fare         623 non-null    float64\n",
      " 10  Cabin        135 non-null    object \n",
      " 11  Embarked     622 non-null    object \n",
      "dtypes: float64(2), int64(5), object(5)\n",
      "memory usage: 58.5+ KB\n"
     ]
    }
   ],
   "source": [
    "data.info()"
   ]
  },
  {
   "cell_type": "code",
   "execution_count": 298,
   "metadata": {},
   "outputs": [
    {
     "data": {
      "text/plain": [
       "PassengerId      0\n",
       "Survived         0\n",
       "Pclass           0\n",
       "Name             0\n",
       "Sex              0\n",
       "Age            122\n",
       "SibSp            0\n",
       "Parch            0\n",
       "Ticket           0\n",
       "Fare             0\n",
       "Cabin          488\n",
       "Embarked         1\n",
       "dtype: int64"
      ]
     },
     "execution_count": 298,
     "metadata": {},
     "output_type": "execute_result"
    }
   ],
   "source": [
    "#Data checks\n",
    "#Checking if there is any null values within the dataframe - THESE COLUMNS HAVE NULLS ['Age', 'Cabin', 'Embarked']\n",
    "data.isnull().sum()"
   ]
  },
  {
   "cell_type": "code",
   "execution_count": 299,
   "metadata": {},
   "outputs": [],
   "source": [
    "#Filling NULL values with a constant (Unknown)\n",
    "data['Age'] = data['Age'].fillna(0)\n",
    "data['Cabin'] = data['Cabin'].fillna('Unknown')\n",
    "data['Embarked'] = data['Embarked'].fillna('Unknown')"
   ]
  },
  {
   "cell_type": "code",
   "execution_count": 300,
   "metadata": {},
   "outputs": [
    {
     "data": {
      "text/plain": [
       "PassengerId    0\n",
       "Survived       0\n",
       "Pclass         0\n",
       "Name           0\n",
       "Sex            0\n",
       "Age            0\n",
       "SibSp          0\n",
       "Parch          0\n",
       "Ticket         0\n",
       "Fare           0\n",
       "Cabin          0\n",
       "Embarked       0\n",
       "dtype: int64"
      ]
     },
     "execution_count": 300,
     "metadata": {},
     "output_type": "execute_result"
    }
   ],
   "source": [
    "#No null values present anymore after corrections\n",
    "data.isnull().sum()"
   ]
  },
  {
   "cell_type": "code",
   "execution_count": 301,
   "metadata": {},
   "outputs": [
    {
     "data": {
      "text/plain": [
       "PassengerId    0.0\n",
       "Survived       0.0\n",
       "Pclass         0.0\n",
       "Name           0.0\n",
       "Sex            0.0\n",
       "Age            0.0\n",
       "SibSp          0.0\n",
       "Parch          0.0\n",
       "Ticket         0.0\n",
       "Fare           0.0\n",
       "Cabin          0.0\n",
       "Embarked       0.0\n",
       "dtype: float64"
      ]
     },
     "execution_count": 301,
     "metadata": {},
     "output_type": "execute_result"
    }
   ],
   "source": [
    "#Checking if there are any duplicated rows - NO DUPLICATES IDENTIFIED\n",
    "data[data.duplicated()].sum()"
   ]
  },
  {
   "cell_type": "code",
   "execution_count": 302,
   "metadata": {},
   "outputs": [],
   "source": [
    "#Transforming ['Sex'] categorical column into a numeric one\n",
    "dictt = {\"female\": 0, \"male\": 1}\n",
    "data['Sex'] = data['Sex'].map(dictt)"
   ]
  },
  {
   "cell_type": "code",
   "execution_count": 303,
   "metadata": {},
   "outputs": [
    {
     "data": {
      "text/plain": [
       "1    402\n",
       "0    221\n",
       "Name: Sex, dtype: int64"
      ]
     },
     "execution_count": 303,
     "metadata": {},
     "output_type": "execute_result"
    }
   ],
   "source": [
    "data['Sex'].value_counts()"
   ]
  },
  {
   "cell_type": "code",
   "execution_count": 304,
   "metadata": {},
   "outputs": [
    {
     "data": {
      "text/html": [
       "<div>\n",
       "<style scoped>\n",
       "    .dataframe tbody tr th:only-of-type {\n",
       "        vertical-align: middle;\n",
       "    }\n",
       "\n",
       "    .dataframe tbody tr th {\n",
       "        vertical-align: top;\n",
       "    }\n",
       "\n",
       "    .dataframe thead th {\n",
       "        text-align: right;\n",
       "    }\n",
       "</style>\n",
       "<table border=\"1\" class=\"dataframe\">\n",
       "  <thead>\n",
       "    <tr style=\"text-align: right;\">\n",
       "      <th></th>\n",
       "      <th>PassengerId</th>\n",
       "      <th>Survived</th>\n",
       "      <th>Pclass</th>\n",
       "      <th>Name</th>\n",
       "      <th>Sex</th>\n",
       "      <th>Age</th>\n",
       "      <th>SibSp</th>\n",
       "      <th>Parch</th>\n",
       "      <th>Ticket</th>\n",
       "      <th>Fare</th>\n",
       "      <th>Cabin</th>\n",
       "      <th>Embarked</th>\n",
       "    </tr>\n",
       "  </thead>\n",
       "  <tbody>\n",
       "    <tr>\n",
       "      <th>0</th>\n",
       "      <td>707</td>\n",
       "      <td>1</td>\n",
       "      <td>2</td>\n",
       "      <td>Kelly, Mrs. Florence \"Fannie\"</td>\n",
       "      <td>0</td>\n",
       "      <td>45.0</td>\n",
       "      <td>0</td>\n",
       "      <td>0</td>\n",
       "      <td>223596</td>\n",
       "      <td>13.5000</td>\n",
       "      <td>Unknown</td>\n",
       "      <td>S</td>\n",
       "    </tr>\n",
       "    <tr>\n",
       "      <th>1</th>\n",
       "      <td>737</td>\n",
       "      <td>0</td>\n",
       "      <td>3</td>\n",
       "      <td>Ford, Mrs. Edward (Margaret Ann Watson)</td>\n",
       "      <td>0</td>\n",
       "      <td>48.0</td>\n",
       "      <td>1</td>\n",
       "      <td>3</td>\n",
       "      <td>W./C. 6608</td>\n",
       "      <td>34.3750</td>\n",
       "      <td>Unknown</td>\n",
       "      <td>S</td>\n",
       "    </tr>\n",
       "    <tr>\n",
       "      <th>2</th>\n",
       "      <td>370</td>\n",
       "      <td>1</td>\n",
       "      <td>1</td>\n",
       "      <td>Aubart, Mme. Leontine Pauline</td>\n",
       "      <td>0</td>\n",
       "      <td>24.0</td>\n",
       "      <td>0</td>\n",
       "      <td>0</td>\n",
       "      <td>PC 17477</td>\n",
       "      <td>69.3000</td>\n",
       "      <td>B35</td>\n",
       "      <td>C</td>\n",
       "    </tr>\n",
       "    <tr>\n",
       "      <th>3</th>\n",
       "      <td>133</td>\n",
       "      <td>0</td>\n",
       "      <td>3</td>\n",
       "      <td>Robins, Mrs. Alexander A (Grace Charity Laury)</td>\n",
       "      <td>0</td>\n",
       "      <td>47.0</td>\n",
       "      <td>1</td>\n",
       "      <td>0</td>\n",
       "      <td>A/5. 3337</td>\n",
       "      <td>14.5000</td>\n",
       "      <td>Unknown</td>\n",
       "      <td>S</td>\n",
       "    </tr>\n",
       "    <tr>\n",
       "      <th>4</th>\n",
       "      <td>415</td>\n",
       "      <td>1</td>\n",
       "      <td>3</td>\n",
       "      <td>Sundman, Mr. Johan Julian</td>\n",
       "      <td>1</td>\n",
       "      <td>44.0</td>\n",
       "      <td>0</td>\n",
       "      <td>0</td>\n",
       "      <td>STON/O 2. 3101269</td>\n",
       "      <td>7.9250</td>\n",
       "      <td>Unknown</td>\n",
       "      <td>S</td>\n",
       "    </tr>\n",
       "    <tr>\n",
       "      <th>...</th>\n",
       "      <td>...</td>\n",
       "      <td>...</td>\n",
       "      <td>...</td>\n",
       "      <td>...</td>\n",
       "      <td>...</td>\n",
       "      <td>...</td>\n",
       "      <td>...</td>\n",
       "      <td>...</td>\n",
       "      <td>...</td>\n",
       "      <td>...</td>\n",
       "      <td>...</td>\n",
       "      <td>...</td>\n",
       "    </tr>\n",
       "    <tr>\n",
       "      <th>618</th>\n",
       "      <td>523</td>\n",
       "      <td>0</td>\n",
       "      <td>3</td>\n",
       "      <td>Lahoud, Mr. Sarkis</td>\n",
       "      <td>1</td>\n",
       "      <td>0.0</td>\n",
       "      <td>0</td>\n",
       "      <td>0</td>\n",
       "      <td>2624</td>\n",
       "      <td>7.2250</td>\n",
       "      <td>Unknown</td>\n",
       "      <td>C</td>\n",
       "    </tr>\n",
       "    <tr>\n",
       "      <th>619</th>\n",
       "      <td>666</td>\n",
       "      <td>0</td>\n",
       "      <td>2</td>\n",
       "      <td>Hickman, Mr. Lewis</td>\n",
       "      <td>1</td>\n",
       "      <td>32.0</td>\n",
       "      <td>2</td>\n",
       "      <td>0</td>\n",
       "      <td>S.O.C. 14879</td>\n",
       "      <td>73.5000</td>\n",
       "      <td>Unknown</td>\n",
       "      <td>S</td>\n",
       "    </tr>\n",
       "    <tr>\n",
       "      <th>620</th>\n",
       "      <td>272</td>\n",
       "      <td>1</td>\n",
       "      <td>3</td>\n",
       "      <td>Tornquist, Mr. William Henry</td>\n",
       "      <td>1</td>\n",
       "      <td>25.0</td>\n",
       "      <td>0</td>\n",
       "      <td>0</td>\n",
       "      <td>LINE</td>\n",
       "      <td>0.0000</td>\n",
       "      <td>Unknown</td>\n",
       "      <td>S</td>\n",
       "    </tr>\n",
       "    <tr>\n",
       "      <th>621</th>\n",
       "      <td>739</td>\n",
       "      <td>0</td>\n",
       "      <td>3</td>\n",
       "      <td>Ivanoff, Mr. Kanio</td>\n",
       "      <td>1</td>\n",
       "      <td>0.0</td>\n",
       "      <td>0</td>\n",
       "      <td>0</td>\n",
       "      <td>349201</td>\n",
       "      <td>7.8958</td>\n",
       "      <td>Unknown</td>\n",
       "      <td>S</td>\n",
       "    </tr>\n",
       "    <tr>\n",
       "      <th>622</th>\n",
       "      <td>572</td>\n",
       "      <td>1</td>\n",
       "      <td>1</td>\n",
       "      <td>Appleton, Mrs. Edward Dale (Charlotte Lamson)</td>\n",
       "      <td>0</td>\n",
       "      <td>53.0</td>\n",
       "      <td>2</td>\n",
       "      <td>0</td>\n",
       "      <td>11769</td>\n",
       "      <td>51.4792</td>\n",
       "      <td>C101</td>\n",
       "      <td>S</td>\n",
       "    </tr>\n",
       "  </tbody>\n",
       "</table>\n",
       "<p>623 rows × 12 columns</p>\n",
       "</div>"
      ],
      "text/plain": [
       "     PassengerId  Survived  Pclass  \\\n",
       "0            707         1       2   \n",
       "1            737         0       3   \n",
       "2            370         1       1   \n",
       "3            133         0       3   \n",
       "4            415         1       3   \n",
       "..           ...       ...     ...   \n",
       "618          523         0       3   \n",
       "619          666         0       2   \n",
       "620          272         1       3   \n",
       "621          739         0       3   \n",
       "622          572         1       1   \n",
       "\n",
       "                                               Name  Sex   Age  SibSp  Parch  \\\n",
       "0                     Kelly, Mrs. Florence \"Fannie\"    0  45.0      0      0   \n",
       "1           Ford, Mrs. Edward (Margaret Ann Watson)    0  48.0      1      3   \n",
       "2                     Aubart, Mme. Leontine Pauline    0  24.0      0      0   \n",
       "3    Robins, Mrs. Alexander A (Grace Charity Laury)    0  47.0      1      0   \n",
       "4                         Sundman, Mr. Johan Julian    1  44.0      0      0   \n",
       "..                                              ...  ...   ...    ...    ...   \n",
       "618                              Lahoud, Mr. Sarkis    1   0.0      0      0   \n",
       "619                              Hickman, Mr. Lewis    1  32.0      2      0   \n",
       "620                    Tornquist, Mr. William Henry    1  25.0      0      0   \n",
       "621                              Ivanoff, Mr. Kanio    1   0.0      0      0   \n",
       "622   Appleton, Mrs. Edward Dale (Charlotte Lamson)    0  53.0      2      0   \n",
       "\n",
       "                Ticket     Fare    Cabin Embarked  \n",
       "0               223596  13.5000  Unknown        S  \n",
       "1           W./C. 6608  34.3750  Unknown        S  \n",
       "2             PC 17477  69.3000      B35        C  \n",
       "3            A/5. 3337  14.5000  Unknown        S  \n",
       "4    STON/O 2. 3101269   7.9250  Unknown        S  \n",
       "..                 ...      ...      ...      ...  \n",
       "618               2624   7.2250  Unknown        C  \n",
       "619       S.O.C. 14879  73.5000  Unknown        S  \n",
       "620               LINE   0.0000  Unknown        S  \n",
       "621             349201   7.8958  Unknown        S  \n",
       "622              11769  51.4792     C101        S  \n",
       "\n",
       "[623 rows x 12 columns]"
      ]
     },
     "execution_count": 304,
     "metadata": {},
     "output_type": "execute_result"
    }
   ],
   "source": [
    "data"
   ]
  },
  {
   "cell_type": "code",
   "execution_count": 305,
   "metadata": {},
   "outputs": [],
   "source": [
    "#Transforming [Cabin] & [Embarked] feature into numeric ones:\n",
    "from sklearn import preprocessing\n",
    "le = preprocessing.LabelEncoder()\n",
    "le.fit(data['Cabin'])\n",
    "# le.classes_\n",
    "data['Cabin'] = le.transform(data['Cabin']) "
   ]
  },
  {
   "cell_type": "code",
   "execution_count": 306,
   "metadata": {},
   "outputs": [],
   "source": [
    "le.fit(data['Embarked'])\n",
    "data['Embarked'] = le.transform(data['Embarked']) "
   ]
  },
  {
   "cell_type": "code",
   "execution_count": 307,
   "metadata": {},
   "outputs": [
    {
     "data": {
      "text/plain": [
       "(2    448\n",
       " 0    121\n",
       " 1     53\n",
       " 3      1\n",
       " Name: Embarked, dtype: int64,\n",
       " 106    488\n",
       " 37       4\n",
       " 51       3\n",
       " 100      3\n",
       " 69       2\n",
       "       ... \n",
       " 53       1\n",
       " 24       1\n",
       " 40       1\n",
       " 52       1\n",
       " 38       1\n",
       " Name: Cabin, Length: 107, dtype: int64)"
      ]
     },
     "execution_count": 307,
     "metadata": {},
     "output_type": "execute_result"
    }
   ],
   "source": [
    "data['Embarked'].value_counts(), data['Cabin'].value_counts()"
   ]
  },
  {
   "cell_type": "code",
   "execution_count": 308,
   "metadata": {},
   "outputs": [],
   "source": [
    "#Collecting X and Y\n",
    "y = data['Survived'].values\n",
    "X = data.drop(['Survived', 'Name', 'Ticket'], axis=1).values #Eliminated [Name] and [Ticket] columns due to irrelevancy"
   ]
  },
  {
   "cell_type": "code",
   "execution_count": 295,
   "metadata": {},
   "outputs": [
    {
     "data": {
      "text/plain": [
       "(array([[707.    ,   2.    ,   0.    , ...,  13.5   , 106.    ,   2.    ],\n",
       "        [737.    ,   3.    ,   0.    , ...,  34.375 , 106.    ,   2.    ],\n",
       "        [370.    ,   1.    ,   0.    , ...,  69.3   ,  18.    ,   0.    ],\n",
       "        ...,\n",
       "        [272.    ,   3.    ,   1.    , ...,   0.    , 106.    ,   2.    ],\n",
       "        [739.    ,   3.    ,   1.    , ...,   7.8958, 106.    ,   2.    ],\n",
       "        [572.    ,   1.    ,   0.    , ...,  51.4792,  38.    ,   2.    ]]),\n",
       " array([1, 0, 1, 0, 1, 0, 1, 1, 0, 1, 0, 0, 0, 0, 0, 0, 0, 1, 1, 1, 1, 1,\n",
       "        1, 0, 0, 0, 0, 0, 1, 1, 0, 0, 0, 1, 0, 1, 1, 1, 0, 1, 0, 1, 1, 1,\n",
       "        0, 0, 0, 0, 0, 1, 1, 0, 1, 0, 0, 1, 0, 0, 0, 0, 0, 0, 0, 1, 1, 0,\n",
       "        0, 1, 1, 1, 1, 0, 0, 0, 0, 0, 0, 1, 1, 0, 1, 1, 0, 0, 1, 1, 0, 1,\n",
       "        1, 0, 0, 1, 0, 1, 0, 0, 0, 0, 1, 0, 1, 0, 0, 1, 0, 1, 1, 0, 1, 1,\n",
       "        1, 0, 1, 0, 0, 0, 0, 0, 1, 0, 1, 0, 0, 0, 0, 0, 0, 1, 1, 0, 1, 0,\n",
       "        1, 1, 0, 0, 1, 1, 0, 0, 1, 0, 1, 0, 0, 0, 0, 0, 1, 0, 1, 0, 1, 1,\n",
       "        0, 0, 1, 1, 1, 0, 0, 0, 0, 1, 0, 0, 1, 0, 0, 1, 0, 0, 0, 0, 1, 0,\n",
       "        1, 1, 1, 0, 0, 0, 0, 1, 0, 1, 1, 0, 0, 0, 0, 0, 1, 1, 0, 0, 1, 1,\n",
       "        0, 1, 1, 1, 0, 0, 1, 0, 0, 1, 0, 0, 1, 1, 1, 1, 0, 0, 0, 1, 0, 0,\n",
       "        0, 0, 0, 1, 0, 1, 1, 0, 1, 0, 0, 1, 0, 0, 0, 0, 0, 1, 1, 1, 0, 1,\n",
       "        0, 1, 0, 0, 0, 1, 1, 1, 1, 0, 0, 0, 1, 0, 0, 0, 1, 0, 0, 0, 0, 0,\n",
       "        0, 1, 0, 0, 1, 0, 1, 1, 1, 0, 1, 0, 1, 0, 1, 0, 1, 1, 0, 0, 1, 0,\n",
       "        0, 0, 0, 1, 0, 1, 0, 0, 0, 1, 1, 1, 0, 0, 0, 1, 1, 0, 0, 1, 0, 1,\n",
       "        0, 0, 0, 0, 0, 0, 0, 1, 0, 0, 1, 1, 0, 0, 0, 0, 0, 0, 1, 0, 1, 0,\n",
       "        0, 0, 0, 0, 0, 1, 0, 0, 0, 1, 0, 0, 0, 0, 0, 0, 1, 1, 0, 0, 0, 0,\n",
       "        0, 0, 1, 1, 1, 0, 0, 1, 0, 0, 1, 1, 0, 0, 0, 1, 0, 0, 0, 1, 0, 1,\n",
       "        0, 1, 0, 0, 0, 0, 1, 0, 1, 1, 0, 1, 0, 0, 0, 1, 0, 0, 0, 0, 1, 1,\n",
       "        1, 1, 1, 0, 0, 1, 0, 0, 0, 0, 0, 0, 0, 0, 0, 0, 0, 1, 0, 0, 0, 0,\n",
       "        0, 1, 1, 1, 0, 0, 0, 0, 1, 1, 0, 0, 0, 0, 0, 1, 1, 1, 1, 0, 1, 1,\n",
       "        0, 0, 0, 1, 0, 0, 0, 0, 1, 0, 0, 0, 0, 0, 1, 0, 0, 0, 1, 0, 0, 0,\n",
       "        1, 0, 0, 0, 1, 0, 0, 1, 1, 0, 0, 1, 1, 0, 0, 0, 1, 0, 0, 1, 0, 1,\n",
       "        1, 1, 1, 1, 0, 1, 0, 0, 0, 0, 0, 0, 1, 0, 0, 0, 1, 0, 0, 0, 0, 1,\n",
       "        0, 1, 1, 0, 0, 1, 0, 1, 0, 0, 1, 1, 1, 0, 0, 0, 0, 0, 1, 0, 0, 1,\n",
       "        1, 0, 0, 0, 1, 0, 0, 0, 0, 1, 1, 0, 0, 1, 1, 1, 1, 0, 0, 1, 0, 0,\n",
       "        0, 1, 1, 0, 1, 1, 0, 0, 1, 1, 1, 1, 1, 0, 0, 0, 0, 0, 0, 0, 0, 1,\n",
       "        0, 0, 0, 1, 1, 1, 0, 0, 0, 0, 0, 0, 1, 0, 0, 1, 1, 0, 0, 1, 1, 0,\n",
       "        1, 1, 0, 0, 0, 0, 0, 1, 1, 1, 1, 1, 0, 1, 0, 0, 0, 1, 0, 1, 0, 1,\n",
       "        0, 1, 0, 0, 1, 0, 1], dtype=int64))"
      ]
     },
     "execution_count": 295,
     "metadata": {},
     "output_type": "execute_result"
    }
   ],
   "source": [
    "X, y"
   ]
  },
  {
   "cell_type": "code",
   "execution_count": 137,
   "metadata": {},
   "outputs": [],
   "source": [
    "#TO DO: Stardardizarea, normalizarea, data pre-processing.... "
   ]
  },
  {
   "cell_type": "code",
   "execution_count": 315,
   "metadata": {},
   "outputs": [
    {
     "name": "stdout",
     "output_type": "stream",
     "text": [
      "Accuracy in train set:  0.8619582664526485\n"
     ]
    }
   ],
   "source": [
    "# Experiment #1 - Decission Tree Classifier\n",
    "\n",
    "from sklearn.tree import DecisionTreeClassifier\n",
    "from sklearn.metrics import accuracy_score\n",
    "model = DecisionTreeClassifier(max_depth=5, random_state=0)\n",
    "\n",
    "#Training data from train.csv\n",
    "X_train = X\n",
    "y_train = y\n",
    "\n",
    "model.fit(X_train, y_train)\n",
    "y_train_pred = model.predict(X_train)\n",
    "print(\"Accuracy in train set: \", accuracy_score(y_train_pred, y_train))"
   ]
  },
  {
   "cell_type": "code",
   "execution_count": null,
   "metadata": {},
   "outputs": [],
   "source": [
    "#Importing TEST dataset:\n"
   ]
  },
  {
   "cell_type": "markdown",
   "metadata": {},
   "source": [
    "**To do:**\n",
    "- De vazut cum se mai poate de facut data pre-processing:\n",
    "\n",
    "     - De facut dictionar cu 0, 1 pentru male/female, etc.\n",
    "     - De vazut cum se poate de facut standardizarea\n",
    "     - Normalizarea\n",
    "     - Sklearn pentru data pre-processing features categorice\n",
    "     \n",
    "    \n",
    "- De incercat diferiti algoritmi cu datele cum sunt dupa pre-processarea curenta\n",
    "- De incercat diferiti algoritmi cu datele cum sunt dupa pre-processarea mai buna + standardizare + normalizare, etc."
   ]
  },
  {
   "cell_type": "code",
   "execution_count": null,
   "metadata": {},
   "outputs": [],
   "source": [
    "-----------------------------------------------------------------------------------------------------------------------"
   ]
  },
  {
   "cell_type": "code",
   "execution_count": 55,
   "metadata": {
    "executionInfo": {
     "elapsed": 266,
     "status": "ok",
     "timestamp": 1652269973491,
     "user": {
      "displayName": "Alina Paiu",
      "userId": "13429356852546874438"
     },
     "user_tz": -180
    },
    "id": "sJtV64BOJdwp"
   },
   "outputs": [],
   "source": [
    "# Collecting X and Y\n",
    "y = data['quality'].values\n",
    "X = data.drop(['quality'], axis=1).values"
   ]
  },
  {
   "cell_type": "code",
   "execution_count": 56,
   "metadata": {
    "colab": {
     "base_uri": "https://localhost:8080/"
    },
    "executionInfo": {
     "elapsed": 9,
     "status": "ok",
     "timestamp": 1652269976759,
     "user": {
      "displayName": "Alina Paiu",
      "userId": "13429356852546874438"
     },
     "user_tz": -180
    },
    "id": "U0Kmwejh4A0H",
    "outputId": "7327b553-b50e-48da-a449-017400f72891"
   },
   "outputs": [
    {
     "data": {
      "text/plain": [
       "(array([[ 7.4  ,  0.7  ,  0.   , ...,  3.51 ,  0.56 ,  9.4  ],\n",
       "        [ 7.8  ,  0.88 ,  0.   , ...,  3.2  ,  0.68 ,  9.8  ],\n",
       "        [ 7.8  ,  0.76 ,  0.04 , ...,  3.26 ,  0.65 ,  9.8  ],\n",
       "        ...,\n",
       "        [ 6.3  ,  0.51 ,  0.13 , ...,  3.42 ,  0.75 , 11.   ],\n",
       "        [ 5.9  ,  0.645,  0.12 , ...,  3.57 ,  0.71 , 10.2  ],\n",
       "        [ 6.   ,  0.31 ,  0.47 , ...,  3.39 ,  0.66 , 11.   ]]),\n",
       " array([5, 5, 5, ..., 6, 5, 6]))"
      ]
     },
     "execution_count": 56,
     "metadata": {},
     "output_type": "execute_result"
    }
   ],
   "source": [
    "X, y"
   ]
  },
  {
   "cell_type": "markdown",
   "metadata": {
    "id": "obns6jK1LTJm"
   },
   "source": [
    "In urmatoarele celule faceti o analiza a setului de date. Vezi daca exista valori NaN, si inlocuieste-le cu media pe coloana. Incearca sa Standardizezi (sau sa Normalizezi) datele."
   ]
  },
  {
   "cell_type": "code",
   "execution_count": 57,
   "metadata": {
    "colab": {
     "base_uri": "https://localhost:8080/"
    },
    "executionInfo": {
     "elapsed": 361,
     "status": "ok",
     "timestamp": 1652270023178,
     "user": {
      "displayName": "Alina Paiu",
      "userId": "13429356852546874438"
     },
     "user_tz": -180
    },
    "id": "Im1Ee7WlJ4-r",
    "outputId": "9c1c5cee-2776-42b9-ce0a-bbb08fc338cc"
   },
   "outputs": [
    {
     "data": {
      "text/plain": [
       "fixed acidity           0\n",
       "volatile acidity        0\n",
       "citric acid             0\n",
       "residual sugar          0\n",
       "chlorides               0\n",
       "free sulfur dioxide     0\n",
       "total sulfur dioxide    0\n",
       "density                 0\n",
       "pH                      0\n",
       "sulphates               0\n",
       "alcohol                 0\n",
       "quality                 0\n",
       "dtype: int64"
      ]
     },
     "execution_count": 57,
     "metadata": {},
     "output_type": "execute_result"
    }
   ],
   "source": [
    "#Checking for null values (NaN) - no replacement with mean() is required\n",
    "data.isnull().sum()"
   ]
  },
  {
   "cell_type": "code",
   "execution_count": 59,
   "metadata": {
    "executionInfo": {
     "elapsed": 381,
     "status": "ok",
     "timestamp": 1652270045229,
     "user": {
      "displayName": "Alina Paiu",
      "userId": "13429356852546874438"
     },
     "user_tz": -180
    },
    "id": "zR6b0T4x96bV"
   },
   "outputs": [],
   "source": [
    "#Data Normalization\n",
    "mm_scaler = MinMaxScaler()\n",
    "X = mm_scaler.fit_transform(X)\n",
    "y = mm_scaler.fit_transform(y.reshape(-1,1))"
   ]
  },
  {
   "cell_type": "code",
   "execution_count": 60,
   "metadata": {
    "colab": {
     "base_uri": "https://localhost:8080/"
    },
    "executionInfo": {
     "elapsed": 390,
     "status": "ok",
     "timestamp": 1652270047667,
     "user": {
      "displayName": "Alina Paiu",
      "userId": "13429356852546874438"
     },
     "user_tz": -180
    },
    "id": "KzZEU4u74wqC",
    "outputId": "688d6020-0148-45ec-9e34-203dc2e894d3"
   },
   "outputs": [
    {
     "data": {
      "text/plain": [
       "(array([[0.24778761, 0.39726027, 0.        , ..., 0.60629921, 0.13772455,\n",
       "         0.15384615],\n",
       "        [0.28318584, 0.52054795, 0.        , ..., 0.36220472, 0.20958084,\n",
       "         0.21538462],\n",
       "        [0.28318584, 0.43835616, 0.04      , ..., 0.40944882, 0.19161677,\n",
       "         0.21538462],\n",
       "        ...,\n",
       "        [0.15044248, 0.26712329, 0.13      , ..., 0.53543307, 0.25149701,\n",
       "         0.4       ],\n",
       "        [0.11504425, 0.35958904, 0.12      , ..., 0.65354331, 0.22754491,\n",
       "         0.27692308],\n",
       "        [0.12389381, 0.13013699, 0.47      , ..., 0.51181102, 0.19760479,\n",
       "         0.4       ]]), array([[0.4],\n",
       "        [0.4],\n",
       "        [0.4],\n",
       "        ...,\n",
       "        [0.6],\n",
       "        [0.4],\n",
       "        [0.6]]))"
      ]
     },
     "execution_count": 60,
     "metadata": {},
     "output_type": "execute_result"
    }
   ],
   "source": [
    "#Data after normalization\n",
    "X, y"
   ]
  },
  {
   "cell_type": "markdown",
   "metadata": {
    "id": "XHhCdvILLl2G"
   },
   "source": [
    "Imparte setul de date in set de date in: date de antrenare, date pentru test, cu porportia de 0.2 pentru test."
   ]
  },
  {
   "cell_type": "code",
   "execution_count": 61,
   "metadata": {
    "executionInfo": {
     "elapsed": 378,
     "status": "ok",
     "timestamp": 1652270134056,
     "user": {
      "displayName": "Alina Paiu",
      "userId": "13429356852546874438"
     },
     "user_tz": -180
    },
    "id": "4iPg9T_zJ8Nk"
   },
   "outputs": [],
   "source": [
    "X_train, X_test, y_train, y_test = train_test_split(X, y, test_size=0.2, random_state = 42)"
   ]
  },
  {
   "cell_type": "markdown",
   "metadata": {
    "id": "a6EeGzEMLskz"
   },
   "source": [
    "Instantiaza modelul LinearRegression din modulul sklearn.linear_model. Cheama functia .fit() cu parametrii de intrare respectivi pentru a antrena modelul."
   ]
  },
  {
   "cell_type": "code",
   "execution_count": 66,
   "metadata": {
    "colab": {
     "base_uri": "https://localhost:8080/"
    },
    "executionInfo": {
     "elapsed": 642,
     "status": "ok",
     "timestamp": 1652270453590,
     "user": {
      "displayName": "Alina Paiu",
      "userId": "13429356852546874438"
     },
     "user_tz": -180
    },
    "id": "eLvK_2olJ-SC",
    "outputId": "67669699-59ff-4507-a013-2d4fec51b52c"
   },
   "outputs": [
    {
     "data": {
      "text/plain": [
       "LinearRegression()"
      ]
     },
     "execution_count": 66,
     "metadata": {},
     "output_type": "execute_result"
    }
   ],
   "source": [
    "from sklearn.linear_model import LinearRegression\n",
    "\n",
    "regr = LinearRegression()\n",
    "regr.fit(X_train, y_train)"
   ]
  },
  {
   "cell_type": "markdown",
   "metadata": {
    "id": "NO-F81_gL-UA"
   },
   "source": [
    "Verifica scorul prezicerilor tale. Incearca sa chemi functia *mean_squared_error* din modulul *sklearn.metrics* pentru a vedea eroarea dintre prezicerile tale si valoarea adevarata a targetului. Fa asta atat pentru setul de antrenare cat si cel de test."
   ]
  },
  {
   "cell_type": "code",
   "execution_count": 70,
   "metadata": {
    "colab": {
     "base_uri": "https://localhost:8080/"
    },
    "executionInfo": {
     "elapsed": 401,
     "status": "ok",
     "timestamp": 1652270511259,
     "user": {
      "displayName": "Alina Paiu",
      "userId": "13429356852546874438"
     },
     "user_tz": -180
    },
    "id": "oGjCnRD0KB_l",
    "outputId": "be81d73e-0e20-4d03-cc16-e6b79f7173d3"
   },
   "outputs": [
    {
     "name": "stdout",
     "output_type": "stream",
     "text": [
      "The training score of model is:  0.347992619352986\n",
      "The score of the model on test data is: 0.40318034127962166\n"
     ]
    }
   ],
   "source": [
    "from sklearn.metrics import mean_squared_error\n",
    "\n",
    "train_score = regr.score(X_train, y_train)\n",
    "print(\"The training score of model is: \", train_score)\n",
    "\n",
    "test_score = regr.score(X_test, y_test)\n",
    "print(\"The score of the model on test data is:\", test_score )"
   ]
  },
  {
   "cell_type": "code",
   "execution_count": 74,
   "metadata": {
    "colab": {
     "base_uri": "https://localhost:8080/"
    },
    "executionInfo": {
     "elapsed": 398,
     "status": "ok",
     "timestamp": 1652270712356,
     "user": {
      "displayName": "Alina Paiu",
      "userId": "13429356852546874438"
     },
     "user_tz": -180
    },
    "id": "vyGDXm9c_z7n",
    "outputId": "3533c3a0-5e50-4e7b-f59c-e029809a53a6"
   },
   "outputs": [
    {
     "data": {
      "text/plain": [
       "0.01696764629255962"
      ]
     },
     "execution_count": 74,
     "metadata": {},
     "output_type": "execute_result"
    }
   ],
   "source": [
    "y_pred_train = regr.predict(X_train)\n",
    "mean_squared_error(y_train, y_pred_train)"
   ]
  },
  {
   "cell_type": "code",
   "execution_count": 75,
   "metadata": {
    "colab": {
     "base_uri": "https://localhost:8080/"
    },
    "executionInfo": {
     "elapsed": 301,
     "status": "ok",
     "timestamp": 1652270714565,
     "user": {
      "displayName": "Alina Paiu",
      "userId": "13429356852546874438"
     },
     "user_tz": -180
    },
    "id": "rBzKZjPvKSZa",
    "outputId": "133d75f8-444a-41b7-a8e3-89f7e1df7509"
   },
   "outputs": [
    {
     "data": {
      "text/plain": [
       "0.015601005758558212"
      ]
     },
     "execution_count": 75,
     "metadata": {},
     "output_type": "execute_result"
    }
   ],
   "source": [
    "y_pred_test = regr.predict(X_test)\n",
    "mean_squared_error(y_test, y_pred_test)"
   ]
  }
 ],
 "metadata": {
  "colab": {
   "collapsed_sections": [],
   "name": "L5HW5 - Linear Regression - Alina Paiu Solutions.ipynb",
   "provenance": [
    {
     "file_id": "1zxWc5CXVv6Xp_rW9s2fE4nly8Q_eF4P7",
     "timestamp": 1652266945311
    },
    {
     "file_id": "1sxTgEiWddSdrG1NOUVWQ2zMVy8r41kpg",
     "timestamp": 1652265971961
    }
   ]
  },
  "kernelspec": {
   "display_name": "Python 3 (ipykernel)",
   "language": "python",
   "name": "python3"
  },
  "language_info": {
   "codemirror_mode": {
    "name": "ipython",
    "version": 3
   },
   "file_extension": ".py",
   "mimetype": "text/x-python",
   "name": "python",
   "nbconvert_exporter": "python",
   "pygments_lexer": "ipython3",
   "version": "3.9.7"
  }
 },
 "nbformat": 4,
 "nbformat_minor": 1
}

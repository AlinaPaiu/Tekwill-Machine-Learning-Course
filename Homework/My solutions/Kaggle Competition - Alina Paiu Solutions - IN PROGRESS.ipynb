{
 "cells": [
  {
   "cell_type": "code",
   "execution_count": 34,
   "metadata": {
    "executionInfo": {
     "elapsed": 293,
     "status": "ok",
     "timestamp": 1652269721255,
     "user": {
      "displayName": "Alina Paiu",
      "userId": "13429356852546874438"
     },
     "user_tz": -180
    },
    "id": "96H7RZMAIlJm"
   },
   "outputs": [],
   "source": [
    "%matplotlib inline\n",
    "import numpy as np\n",
    "import pandas as pd\n",
    "import math\n",
    "from sklearn.model_selection import train_test_split\n",
    "from sklearn.preprocessing import MinMaxScaler \n",
    "import matplotlib.pyplot as plt\n",
    "plt.rcParams['figure.figsize'] = (20.0, 10.0)"
   ]
  },
  {
   "cell_type": "code",
   "execution_count": 39,
   "metadata": {
    "colab": {
     "base_uri": "https://localhost:8080/"
    },
    "executionInfo": {
     "elapsed": 13,
     "status": "ok",
     "timestamp": 1652269722434,
     "user": {
      "displayName": "Alina Paiu",
      "userId": "13429356852546874438"
     },
     "user_tz": -180
    },
    "id": "smkmkeeGI3Sd",
    "outputId": "d28c8422-0bd3-43b7-e7fe-a58abb6d8ac4"
   },
   "outputs": [
    {
     "name": "stderr",
     "output_type": "stream",
     "text": [
      "A subdirectory or file data already exists.\n"
     ]
    }
   ],
   "source": [
    "!mkdir data && curl -o data/train.csv -LJO https://raw.githubusercontent.com/AlinaPaiu/Tekwill-Machine-Learning-Course/main/Homework/Homeworks/Kaggle_Competition/train.csv"
   ]
  },
  {
   "cell_type": "code",
   "execution_count": null,
   "metadata": {
    "colab": {
     "base_uri": "https://localhost:8080/"
    },
    "executionInfo": {
     "elapsed": 302,
     "status": "ok",
     "timestamp": 1652268461904,
     "user": {
      "displayName": "Alina Paiu",
      "userId": "13429356852546874438"
     },
     "user_tz": -180
    },
    "id": "a0ocyuG6JBI-",
    "outputId": "c75d9934-16ac-4238-df97-b09237310c42"
   },
   "outputs": [
    {
     "data": {
      "text/plain": [
       "5    681\n",
       "6    638\n",
       "7    199\n",
       "4     53\n",
       "8     18\n",
       "3     10\n",
       "Name: quality, dtype: int64"
      ]
     },
     "execution_count": 4,
     "metadata": {},
     "output_type": "execute_result"
    }
   ],
   "source": [
    "data.quality.value_counts()"
   ]
  },
  {
   "cell_type": "code",
   "execution_count": 34,
   "metadata": {
    "executionInfo": {
     "elapsed": 267,
     "status": "ok",
     "timestamp": 1652269573119,
     "user": {
      "displayName": "Alina Paiu",
      "userId": "13429356852546874438"
     },
     "user_tz": -180
    },
    "id": "xYytVFBT7rR-"
   },
   "outputs": [],
   "source": [
    "#In case there are null values - replace them with mean value \n",
    "for column in data:\n",
    "  mean = data[column].mean()\n",
    "  data[column] = data[column].fillna(mean)"
   ]
  },
  {
   "cell_type": "code",
   "execution_count": 55,
   "metadata": {
    "executionInfo": {
     "elapsed": 266,
     "status": "ok",
     "timestamp": 1652269973491,
     "user": {
      "displayName": "Alina Paiu",
      "userId": "13429356852546874438"
     },
     "user_tz": -180
    },
    "id": "sJtV64BOJdwp"
   },
   "outputs": [],
   "source": [
    "# Collecting X and Y\n",
    "y = data['quality'].values\n",
    "X = data.drop(['quality'], axis=1).values"
   ]
  },
  {
   "cell_type": "code",
   "execution_count": 56,
   "metadata": {
    "colab": {
     "base_uri": "https://localhost:8080/"
    },
    "executionInfo": {
     "elapsed": 9,
     "status": "ok",
     "timestamp": 1652269976759,
     "user": {
      "displayName": "Alina Paiu",
      "userId": "13429356852546874438"
     },
     "user_tz": -180
    },
    "id": "U0Kmwejh4A0H",
    "outputId": "7327b553-b50e-48da-a449-017400f72891"
   },
   "outputs": [
    {
     "data": {
      "text/plain": [
       "(array([[ 7.4  ,  0.7  ,  0.   , ...,  3.51 ,  0.56 ,  9.4  ],\n",
       "        [ 7.8  ,  0.88 ,  0.   , ...,  3.2  ,  0.68 ,  9.8  ],\n",
       "        [ 7.8  ,  0.76 ,  0.04 , ...,  3.26 ,  0.65 ,  9.8  ],\n",
       "        ...,\n",
       "        [ 6.3  ,  0.51 ,  0.13 , ...,  3.42 ,  0.75 , 11.   ],\n",
       "        [ 5.9  ,  0.645,  0.12 , ...,  3.57 ,  0.71 , 10.2  ],\n",
       "        [ 6.   ,  0.31 ,  0.47 , ...,  3.39 ,  0.66 , 11.   ]]),\n",
       " array([5, 5, 5, ..., 6, 5, 6]))"
      ]
     },
     "execution_count": 56,
     "metadata": {},
     "output_type": "execute_result"
    }
   ],
   "source": [
    "X, y"
   ]
  },
  {
   "cell_type": "markdown",
   "metadata": {
    "id": "obns6jK1LTJm"
   },
   "source": [
    "In urmatoarele celule faceti o analiza a setului de date. Vezi daca exista valori NaN, si inlocuieste-le cu media pe coloana. Incearca sa Standardizezi (sau sa Normalizezi) datele."
   ]
  },
  {
   "cell_type": "code",
   "execution_count": 57,
   "metadata": {
    "colab": {
     "base_uri": "https://localhost:8080/"
    },
    "executionInfo": {
     "elapsed": 361,
     "status": "ok",
     "timestamp": 1652270023178,
     "user": {
      "displayName": "Alina Paiu",
      "userId": "13429356852546874438"
     },
     "user_tz": -180
    },
    "id": "Im1Ee7WlJ4-r",
    "outputId": "9c1c5cee-2776-42b9-ce0a-bbb08fc338cc"
   },
   "outputs": [
    {
     "data": {
      "text/plain": [
       "fixed acidity           0\n",
       "volatile acidity        0\n",
       "citric acid             0\n",
       "residual sugar          0\n",
       "chlorides               0\n",
       "free sulfur dioxide     0\n",
       "total sulfur dioxide    0\n",
       "density                 0\n",
       "pH                      0\n",
       "sulphates               0\n",
       "alcohol                 0\n",
       "quality                 0\n",
       "dtype: int64"
      ]
     },
     "execution_count": 57,
     "metadata": {},
     "output_type": "execute_result"
    }
   ],
   "source": [
    "#Checking for null values (NaN) - no replacement with mean() is required\n",
    "data.isnull().sum()"
   ]
  },
  {
   "cell_type": "code",
   "execution_count": 59,
   "metadata": {
    "executionInfo": {
     "elapsed": 381,
     "status": "ok",
     "timestamp": 1652270045229,
     "user": {
      "displayName": "Alina Paiu",
      "userId": "13429356852546874438"
     },
     "user_tz": -180
    },
    "id": "zR6b0T4x96bV"
   },
   "outputs": [],
   "source": [
    "#Data Normalization\n",
    "mm_scaler = MinMaxScaler()\n",
    "X = mm_scaler.fit_transform(X)\n",
    "y = mm_scaler.fit_transform(y.reshape(-1,1))"
   ]
  },
  {
   "cell_type": "code",
   "execution_count": 60,
   "metadata": {
    "colab": {
     "base_uri": "https://localhost:8080/"
    },
    "executionInfo": {
     "elapsed": 390,
     "status": "ok",
     "timestamp": 1652270047667,
     "user": {
      "displayName": "Alina Paiu",
      "userId": "13429356852546874438"
     },
     "user_tz": -180
    },
    "id": "KzZEU4u74wqC",
    "outputId": "688d6020-0148-45ec-9e34-203dc2e894d3"
   },
   "outputs": [
    {
     "data": {
      "text/plain": [
       "(array([[0.24778761, 0.39726027, 0.        , ..., 0.60629921, 0.13772455,\n",
       "         0.15384615],\n",
       "        [0.28318584, 0.52054795, 0.        , ..., 0.36220472, 0.20958084,\n",
       "         0.21538462],\n",
       "        [0.28318584, 0.43835616, 0.04      , ..., 0.40944882, 0.19161677,\n",
       "         0.21538462],\n",
       "        ...,\n",
       "        [0.15044248, 0.26712329, 0.13      , ..., 0.53543307, 0.25149701,\n",
       "         0.4       ],\n",
       "        [0.11504425, 0.35958904, 0.12      , ..., 0.65354331, 0.22754491,\n",
       "         0.27692308],\n",
       "        [0.12389381, 0.13013699, 0.47      , ..., 0.51181102, 0.19760479,\n",
       "         0.4       ]]), array([[0.4],\n",
       "        [0.4],\n",
       "        [0.4],\n",
       "        ...,\n",
       "        [0.6],\n",
       "        [0.4],\n",
       "        [0.6]]))"
      ]
     },
     "execution_count": 60,
     "metadata": {},
     "output_type": "execute_result"
    }
   ],
   "source": [
    "#Data after normalization\n",
    "X, y"
   ]
  },
  {
   "cell_type": "markdown",
   "metadata": {
    "id": "XHhCdvILLl2G"
   },
   "source": [
    "Imparte setul de date in set de date in: date de antrenare, date pentru test, cu porportia de 0.2 pentru test."
   ]
  },
  {
   "cell_type": "code",
   "execution_count": 61,
   "metadata": {
    "executionInfo": {
     "elapsed": 378,
     "status": "ok",
     "timestamp": 1652270134056,
     "user": {
      "displayName": "Alina Paiu",
      "userId": "13429356852546874438"
     },
     "user_tz": -180
    },
    "id": "4iPg9T_zJ8Nk"
   },
   "outputs": [],
   "source": [
    "X_train, X_test, y_train, y_test = train_test_split(X, y, test_size=0.2, random_state = 42)"
   ]
  },
  {
   "cell_type": "markdown",
   "metadata": {
    "id": "a6EeGzEMLskz"
   },
   "source": [
    "Instantiaza modelul LinearRegression din modulul sklearn.linear_model. Cheama functia .fit() cu parametrii de intrare respectivi pentru a antrena modelul."
   ]
  },
  {
   "cell_type": "code",
   "execution_count": 66,
   "metadata": {
    "colab": {
     "base_uri": "https://localhost:8080/"
    },
    "executionInfo": {
     "elapsed": 642,
     "status": "ok",
     "timestamp": 1652270453590,
     "user": {
      "displayName": "Alina Paiu",
      "userId": "13429356852546874438"
     },
     "user_tz": -180
    },
    "id": "eLvK_2olJ-SC",
    "outputId": "67669699-59ff-4507-a013-2d4fec51b52c"
   },
   "outputs": [
    {
     "data": {
      "text/plain": [
       "LinearRegression()"
      ]
     },
     "execution_count": 66,
     "metadata": {},
     "output_type": "execute_result"
    }
   ],
   "source": [
    "from sklearn.linear_model import LinearRegression\n",
    "\n",
    "regr = LinearRegression()\n",
    "regr.fit(X_train, y_train)"
   ]
  },
  {
   "cell_type": "markdown",
   "metadata": {
    "id": "NO-F81_gL-UA"
   },
   "source": [
    "Verifica scorul prezicerilor tale. Incearca sa chemi functia *mean_squared_error* din modulul *sklearn.metrics* pentru a vedea eroarea dintre prezicerile tale si valoarea adevarata a targetului. Fa asta atat pentru setul de antrenare cat si cel de test."
   ]
  },
  {
   "cell_type": "code",
   "execution_count": 70,
   "metadata": {
    "colab": {
     "base_uri": "https://localhost:8080/"
    },
    "executionInfo": {
     "elapsed": 401,
     "status": "ok",
     "timestamp": 1652270511259,
     "user": {
      "displayName": "Alina Paiu",
      "userId": "13429356852546874438"
     },
     "user_tz": -180
    },
    "id": "oGjCnRD0KB_l",
    "outputId": "be81d73e-0e20-4d03-cc16-e6b79f7173d3"
   },
   "outputs": [
    {
     "name": "stdout",
     "output_type": "stream",
     "text": [
      "The training score of model is:  0.347992619352986\n",
      "The score of the model on test data is: 0.40318034127962166\n"
     ]
    }
   ],
   "source": [
    "from sklearn.metrics import mean_squared_error\n",
    "\n",
    "train_score = regr.score(X_train, y_train)\n",
    "print(\"The training score of model is: \", train_score)\n",
    "\n",
    "test_score = regr.score(X_test, y_test)\n",
    "print(\"The score of the model on test data is:\", test_score )"
   ]
  },
  {
   "cell_type": "code",
   "execution_count": 74,
   "metadata": {
    "colab": {
     "base_uri": "https://localhost:8080/"
    },
    "executionInfo": {
     "elapsed": 398,
     "status": "ok",
     "timestamp": 1652270712356,
     "user": {
      "displayName": "Alina Paiu",
      "userId": "13429356852546874438"
     },
     "user_tz": -180
    },
    "id": "vyGDXm9c_z7n",
    "outputId": "3533c3a0-5e50-4e7b-f59c-e029809a53a6"
   },
   "outputs": [
    {
     "data": {
      "text/plain": [
       "0.01696764629255962"
      ]
     },
     "execution_count": 74,
     "metadata": {},
     "output_type": "execute_result"
    }
   ],
   "source": [
    "y_pred_train = regr.predict(X_train)\n",
    "mean_squared_error(y_train, y_pred_train)"
   ]
  },
  {
   "cell_type": "code",
   "execution_count": 75,
   "metadata": {
    "colab": {
     "base_uri": "https://localhost:8080/"
    },
    "executionInfo": {
     "elapsed": 301,
     "status": "ok",
     "timestamp": 1652270714565,
     "user": {
      "displayName": "Alina Paiu",
      "userId": "13429356852546874438"
     },
     "user_tz": -180
    },
    "id": "rBzKZjPvKSZa",
    "outputId": "133d75f8-444a-41b7-a8e3-89f7e1df7509"
   },
   "outputs": [
    {
     "data": {
      "text/plain": [
       "0.015601005758558212"
      ]
     },
     "execution_count": 75,
     "metadata": {},
     "output_type": "execute_result"
    }
   ],
   "source": [
    "y_pred_test = regr.predict(X_test)\n",
    "mean_squared_error(y_test, y_pred_test)"
   ]
  }
 ],
 "metadata": {
  "colab": {
   "collapsed_sections": [],
   "name": "L5HW5 - Linear Regression - Alina Paiu Solutions.ipynb",
   "provenance": [
    {
     "file_id": "1zxWc5CXVv6Xp_rW9s2fE4nly8Q_eF4P7",
     "timestamp": 1652266945311
    },
    {
     "file_id": "1sxTgEiWddSdrG1NOUVWQ2zMVy8r41kpg",
     "timestamp": 1652265971961
    }
   ]
  },
  "kernelspec": {
   "display_name": "Python 3 (ipykernel)",
   "language": "python",
   "name": "python3"
  },
  "language_info": {
   "codemirror_mode": {
    "name": "ipython",
    "version": 3
   },
   "file_extension": ".py",
   "mimetype": "text/x-python",
   "name": "python",
   "nbconvert_exporter": "python",
   "pygments_lexer": "ipython3",
   "version": "3.9.7"
  }
 },
 "nbformat": 4,
 "nbformat_minor": 1
}
